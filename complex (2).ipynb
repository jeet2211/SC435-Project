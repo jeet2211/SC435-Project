{
  "cells": [
    {
      "cell_type": "code",
      "execution_count": 1,
      "metadata": {
        "id": "8GFKNGJUB3JK"
      },
      "outputs": [],
      "source": [
        "import pandas as pd\n",
        "import pylab\n",
        "import matplotlib.pyplot as plt\n",
        "import matplotlib.cm as cm\n",
        "import numpy as np\n",
        "import community\n",
        "import community.community_louvain as community_louvain\n",
        "import networkx as nx\n",
        "import random\n",
        "import collections\n",
        "import csv\n",
        "import seaborn as sns"
      ]
    },
    {
      "cell_type": "code",
      "execution_count": null,
      "metadata": {
        "id": "LSzbhkT8X9CV"
      },
      "outputs": [],
      "source": [
        "def data_graph(dataset, delimiter):\n",
        "    \n",
        "    data = pd.read_csv(dataset, delimiter=delimiter)\n",
        "    print(data.shape)\n",
        "    if dataset == 'epinion.txt':\n",
        "        data.columns = ['From','To','Weight']\n",
        "    elif dataset == 'bitcoin.csv':\n",
        "        data.columns = ['From','To','Weight','Time']\n",
        "    print(data.head())\n",
        "    \n",
        "    graph = nx.DiGraph()\n",
        "    # Adding the edges.\n",
        "    for index,row in data.iterrows():\n",
        "        graph.add_edges_from([(row[0],row[1])],weight = row[2])\n",
        "  #  print(graph)\n",
        "    \n",
        "    return data, graph"
      ]
    },
    {
      "cell_type": "code",
      "execution_count": null,
      "metadata": {
        "colab": {
          "base_uri": "https://localhost:8080/"
        },
        "id": "UvzxNIthYCmS",
        "outputId": "8c0e5fc2-0b65-4076-8ac2-71b58c45a576"
      },
      "outputs": [
        {
          "output_type": "stream",
          "name": "stdout",
          "text": [
            "(252842, 3)\n",
            "   From        To  Weight\n",
            "0     0       1.0    -1.0\n",
            "1     1  128552.0    -1.0\n",
            "2     2       3.0     1.0\n",
            "3     4       5.0    -1.0\n",
            "4     4     155.0    -1.0\n"
          ]
        }
      ],
      "source": [
        "epi_csv, epi_graph = data_graph('epinion.txt',\"\\t\")"
      ]
    },
    {
      "cell_type": "code",
      "execution_count": null,
      "metadata": {
        "colab": {
          "base_uri": "https://localhost:8080/"
        },
        "id": "TTs4I2-yb8KZ",
        "outputId": "068ec9ce-78bb-448e-db66-d55804ff3730"
      },
      "outputs": [
        {
          "output_type": "stream",
          "name": "stdout",
          "text": [
            "(35592, 4)\n",
            "   From  To  Weight          Time\n",
            "0     6   2       4  1.289242e+09\n",
            "1     6   5       2  1.289242e+09\n",
            "2     1  15       1  1.289243e+09\n",
            "3     4   3       7  1.289245e+09\n",
            "4    13  16       8  1.289254e+09\n"
          ]
        }
      ],
      "source": [
        "bitcoin_csv, bitcoin_graph = data_graph('bitcoin.csv',\",\")"
      ]
    },
    {
      "cell_type": "code",
      "execution_count": null,
      "metadata": {
        "id": "SBwPRXracPpE"
      },
      "outputs": [],
      "source": [
        "def recrprocity(data, skip):\n",
        "    pos = data.loc[data['Weight'] > 0]\n",
        "    neg = data.loc[data['Weight'] < 0]\n",
        "    graphP = nx.DiGraph()\n",
        "    # Adding the edges.\n",
        "\n",
        "    for index,row in pos.iterrows():\n",
        "        graphP.add_edges_from([(row[0],row[1])])\n",
        "    print('+ve reciprocity: ' + str(nx.reciprocity(graphP)))\n",
        "\n",
        "    if not skip:\n",
        "        graphN = nx.DiGraph()\n",
        "        # Adding the edges.\n",
        "        for index,row in neg.iterrows():\n",
        "            graphN.add_edges_from([(row[0],row[1])])\n",
        "        print('-ve reciprocity: ' + str(nx.reciprocity(graphN)))"
      ]
    },
    {
      "cell_type": "code",
      "execution_count": null,
      "metadata": {
        "colab": {
          "base_uri": "https://localhost:8080/"
        },
        "id": "mtvUKuheclvc",
        "outputId": "4709914f-a1f0-4c6e-d099-443673e7b6de"
      },
      "outputs": [
        {
          "output_type": "stream",
          "name": "stdout",
          "text": [
            "+ve reciprocity: 0.24025654458573448\n",
            "-ve reciprocity: 0.02223335629736331\n"
          ]
        }
      ],
      "source": [
        "recrprocity(epi_csv, False)"
      ]
    },
    {
      "cell_type": "code",
      "execution_count": null,
      "metadata": {
        "colab": {
          "base_uri": "https://localhost:8080/"
        },
        "id": "yTNk9HMdc98j",
        "outputId": "08ed4566-7977-4a29-9e2c-6578e4d98983"
      },
      "outputs": [
        {
          "output_type": "stream",
          "name": "stdout",
          "text": [
            "+ve reciprocity: 0.8391145524368541\n",
            "-ve reciprocity: 0.17064271681167556\n"
          ]
        }
      ],
      "source": [
        "recrprocity(bitcoin_csv, False)"
      ]
    },
    {
      "cell_type": "code",
      "execution_count": null,
      "metadata": {
        "id": "pw6GCnvEdD2n"
      },
      "outputs": [],
      "source": [
        "def stats(data,graph):\n",
        "    # Number of nodes\n",
        "    print('Nodes = ' + str(graph.number_of_nodes()))\n",
        "\n",
        "    # Number of edges\n",
        "    print('Edges = ' + str(graph.number_of_edges()))\n",
        "\n",
        "    # Positive and negative edges \n",
        "\n",
        "    Stats = pd.DataFrame(graph.out_degree(),columns=['From','Outdegree']).sort_values('From')\n",
        "    Stats_2 =  pd.DataFrame(graph.in_degree(),columns=['To','Indegree']).sort_values('To')\n",
        "\n",
        "    b= data.groupby('From',as_index=False)[['Weight']].sum().sort_values('From')\n",
        "    c= data.groupby('To',as_index=False)[['Weight']].sum().sort_values('To')\n",
        "\n",
        "    Stats = Stats.merge(b,on='From',how='left')\n",
        "    Stats_2 = Stats_2.merge(c,on='To',how='left')\n",
        "\n",
        "    Stats['Pos_out'] = (  Stats['Outdegree'] + Stats['Weight']  )/2\n",
        "    Stats['Neg_out'] = (  Stats['Outdegree'] - Stats['Weight']  )/2\n",
        "    Stats_2['Pos_in']= (Stats_2['Indegree']  + Stats_2['Weight'])/2\n",
        "    Stats_2['Neg_in']= (Stats_2['Indegree']  - Stats_2['Weight'])/2\n",
        "    \n",
        "    Stats = pd.merge(Stats,Stats_2,left_on='From', right_on='To').drop('To', axis=1)\n",
        "    Stats = Stats.drop(['Weight_x','Weight_y'],axis=1)\n",
        "    Stats.fillna(0,inplace=True)\n",
        "    print(Stats.head())\n",
        "    \n",
        "    print(Stats.describe())\n",
        "    print(Stats.max(axis=0))\n",
        "    \n",
        "    print('Average Clustering = ' + str(nx.average_clustering(graph)))\n",
        "    print('Transitivity = '+ str(nx.transitivity(graph)))\n",
        "    print('Density = ' + str(nx.density(graph)))\n",
        "    \n",
        "    data['Weight'].plot.hist(bins=2, alpha=1, align='mid', color='purple', edgecolor='black')\n",
        "    plt.xlabel('Weight')\n",
        "    plt.ylabel('Frequency')\n",
        "    plt.title('weight of edges')\n",
        "    plt.xticks([-1,1])\n",
        "    plt.show()\n",
        "    plt.savefig('line plot.jpg',bbox_inches='tight', dpi=150)\n",
        "    \n",
        "    return Stats"
      ]
    },
    {
      "cell_type": "code",
      "execution_count": null,
      "metadata": {
        "colab": {
          "base_uri": "https://localhost:8080/",
          "height": 972
        },
        "id": "X812vrGmdUyF",
        "outputId": "d1abd406-ce3c-489e-f10e-d8123468be1a"
      },
      "outputs": [
        {
          "output_type": "stream",
          "name": "stdout",
          "text": [
            "Nodes = 41658\n",
            "Edges = 252842\n",
            "   From  Outdegree  Pos_out  Neg_out  Indegree  Pos_in  Neg_in\n",
            "0   0.0          1      0.0      1.0         0     0.0     0.0\n",
            "1   1.0          1      0.0      1.0         1     0.0     1.0\n",
            "2   2.0          1      1.0      0.0         1     1.0     0.0\n",
            "3   3.0          0      0.0      0.0         4     4.0     0.0\n",
            "4   4.0         14      9.0      5.0         1     1.0     0.0\n",
            "                From     Outdegree       Pos_out       Neg_out      Indegree  \\\n",
            "count   41658.000000  41658.000000  41658.000000  41658.000000  41658.000000   \n",
            "mean    48811.069278      6.069470      4.536308      1.533163      6.069470   \n",
            "std     38532.971240     40.470029     30.355978     20.441754     20.965253   \n",
            "min         0.000000      0.000000      0.000000      0.000000      0.000000   \n",
            "25%     13865.250000      0.000000      0.000000      0.000000      1.000000   \n",
            "50%     40827.000000      0.000000      0.000000      0.000000      1.000000   \n",
            "75%     79092.750000      0.000000      0.000000      0.000000      3.000000   \n",
            "max    131788.000000   1893.000000   1893.000000   1562.000000    959.000000   \n",
            "\n",
            "             Pos_in        Neg_in  \n",
            "count  41658.000000  41658.000000  \n",
            "mean       4.536296      1.533151  \n",
            "std       19.023857      5.262399  \n",
            "min        0.000000      0.000000  \n",
            "25%        0.000000      0.000000  \n",
            "50%        1.000000      0.000000  \n",
            "75%        2.000000      1.000000  \n",
            "max      920.000000    350.000000  \n",
            "From         131788.0\n",
            "Outdegree      1893.0\n",
            "Pos_out        1893.0\n",
            "Neg_out        1562.0\n",
            "Indegree        959.0\n",
            "Pos_in          920.0\n",
            "Neg_in          350.0\n",
            "dtype: float64\n",
            "Average Clustering = 0.09445458021623829\n",
            "Transitivity = 0.03236300623063049\n",
            "Density = 0.0001457010934501661\n"
          ]
        },
        {
          "output_type": "display_data",
          "data": {
            "text/plain": [
              "<Figure size 432x288 with 1 Axes>"
            ],
            "image/png": "[encoded data removed]"
          },
          "metadata": {
            "needs_background": "light"
          }
        },
        {
          "output_type": "display_data",
          "data": {
            "text/plain": [
              "<Figure size 432x288 with 0 Axes>"
            ]
          },
          "metadata": {}
        }
      ],
      "source": [
        "epi_Stats = stats(epi_csv,epi_graph)"
      ]
    },
    {
      "cell_type": "code",
      "execution_count": null,
      "metadata": {
        "id": "gQzsA-LBgwu3"
      },
      "outputs": [],
      "source": [
        "def degreeDistribution(data,graph):\n",
        "    \n",
        "    degree_sequence = sorted([d for n, d in graph.in_degree()], reverse=True)  # degree sequence\n",
        "    degreeCount = collections.Counter(degree_sequence)\n",
        "    #print(degreeCount)\n",
        "    deg, cnt = zip(*degreeCount.items())\n",
        "    #deg, cnt = np.array(deg), deg.array(cnt)\n",
        "#     print(len(deg))\n",
        "#     deg = deg[0:100]\n",
        "#     cnt = cnt[0:100]\n",
        "#     print(len(deg))\n",
        "    print()\n",
        "    plt.figure(figsize=(15, 5), dpi=80)\n",
        "    plt.plot(deg,cnt,color=\"#3F5D7D\")\n",
        "    plt.xlabel('In-Degree (Number of Connections)')\n",
        "    plt.ylabel('Number of nodes')\n",
        "    plt.title('Actual Plot(Epinion)')\n",
        "    plt.grid()\n",
        "    plt.xlim([0, 1000])\n",
        "    plt.show()\n",
        "    print()\n",
        "    plt.figure(figsize=(15, 5), dpi=80)\n",
        "    plt.bar(deg,(np.log(cnt)),color = 'b')\n",
        "    #plt.plot(n1)\n",
        "    #plt.plot(deg,(np.log(cnt)),color=\"#3F5D7D\")\n",
        "    plt.xlabel('In-Degree (Number of Connections)')\n",
        "    plt.ylabel('Number of nodes')\n",
        "    plt.title('Log Plot(Epinion)')\n",
        "    plt.xlim([0, 800])\n",
        "    plt.grid()\n",
        "    plt.show()\n",
        "    \n",
        "    # Degree distribtion for out-degree\n",
        "    degree_sequence = sorted([d for n, d in graph.out_degree()], reverse=True)  # degree sequence\n",
        "    degreeCount = collections.Counter(degree_sequence)\n",
        "    #print(degreeCount)\n",
        "    deg, cnt = zip(*degreeCount.items())\n",
        "    #deg, cnt = np.array(deg), deg.array(cnt)\n",
        "    deg, cnt = deg[0:1000], cnt[0:1000]\n",
        "    plt.figure(figsize=(15, 5), dpi=80)\n",
        "    plt.plot(deg,cnt,color=\"#3F5D7D\")\n",
        "    plt.xlabel('Out-Degree(Number of Connections)')\n",
        "    plt.ylabel('Number of nodes')\n",
        "    plt.title('Log Plot(Epinion)')\n",
        "    plt.xlim([0, 1000])\n",
        "    plt.grid()\n",
        "    plt.show()\n",
        "\n",
        "    print()\n",
        "    plt.figure(figsize=(15, 5), dpi=80)\n",
        "    plt.bar(deg,(np.log(cnt)),color = 'b')\n",
        "    #plt.plot(deg,(np.log(cnt)),color=\"#3F5D7D\")\n",
        "    plt.xlabel('Out-Degree (Number of Connections)')\n",
        "    plt.ylabel('Number of nodes')\n",
        "    plt.title('Log Plot(Epinion)')\n",
        "    plt.xlim([0, 800])\n",
        "    plt.grid()\n",
        "    plt.show()"
      ]
    },
    {
      "cell_type": "code",
      "execution_count": null,
      "metadata": {
        "colab": {
          "background_save": true
        },
        "id": "ImoYWMeEP7iK",
        "outputId": "5b1c6454-05e0-41d1-b9bc-367f4ff2f81d"
      },
      "outputs": [
        {
          "data": {
            "image/png": "[encoded data removed]",
            "text/plain": [
              "<Figure size 576x432 with 1 Axes>"
            ]
          },
          "metadata": {},
          "output_type": "display_data"
        }
      ],
      "source": [
        "plt.figure(figsize = (8,6))\n",
        "# vals, counts = np.unique(list(dict(G.degree()).values()), return_counts=True)\n",
        "# plt.loglog(vals, counts/sum(counts))\n",
        "plt.title(\"Degree Distribution\")\n",
        "plt.xlabel('log of degree value')\n",
        "plt.ylabel('log of probability')\n",
        "vals, counts = np.unique(list(dict(epi_graph.in_degree()).values()), return_counts=True)\n",
        "plt.loglog(vals, counts/sum(counts), label = \"in degree\")\n",
        "plt.legend(loc = 0)\n",
        "plt.savefig(\"degree_dist.png\", dpi = 300)\n",
        "plt.show()"
      ]
    },
    {
      "cell_type": "code",
      "execution_count": null,
      "metadata": {
        "colab": {
          "background_save": true
        },
        "id": "7Rzf68RrRU7B",
        "outputId": "f8efbdd8-bbbf-4cd8-e28a-f62d3743638e"
      },
      "outputs": [
        {
          "data": {
            "image/png": "[encoded data removed]",
            "text/plain": [
              "<Figure size 576x432 with 1 Axes>"
            ]
          },
          "metadata": {},
          "output_type": "display_data"
        }
      ],
      "source": [
        "plt.figure(figsize = (8,6))\n",
        "# vals, counts = np.unique(list(dict(G.degree()).values()), return_counts=True)\n",
        "# plt.loglog(vals, counts/sum(counts))\n",
        "plt.title(\"Degree Distribution\")\n",
        "plt.xlabel('log of degree value')\n",
        "plt.ylabel('log of probability')\n",
        "vals, counts = np.unique(list(dict(epi_graph.out_degree()).values()), return_counts=True)\n",
        "plt.loglog(vals, counts/sum(counts), label = \"out degree\")\n",
        "plt.legend(loc = 0)\n",
        "plt.savefig(\"degree_dist.png\", dpi = 300)\n",
        "plt.show()"
      ]
    },
    {
      "cell_type": "code",
      "execution_count": null,
      "metadata": {
        "colab": {
          "background_save": true
        },
        "id": "L-4mgJw_L3NX",
        "outputId": "1e6c3de0-3189-4f33-eead-3aba44970195"
      },
      "outputs": [
        {
          "name": "stdout",
          "output_type": "stream",
          "text": [
            "\n"
          ]
        },
        {
          "data": {
            "image/png": "[encoded data removed]",
            "text/plain": [
              "<Figure size 1200x400 with 1 Axes>"
            ]
          },
          "metadata": {},
          "output_type": "display_data"
        },
        {
          "name": "stdout",
          "output_type": "stream",
          "text": [
            "\n"
          ]
        },
        {
          "data": {
            "image/png": "[encoded data removed]",
            "text/plain": [
              "<Figure size 1200x400 with 1 Axes>"
            ]
          },
          "metadata": {},
          "output_type": "display_data"
        },
        {
          "data": {
            "image/png": "[encoded data removed]",
            "text/plain": [
              "<Figure size 1200x400 with 1 Axes>"
            ]
          },
          "metadata": {},
          "output_type": "display_data"
        },
        {
          "name": "stdout",
          "output_type": "stream",
          "text": [
            "\n"
          ]
        },
        {
          "data": {
            "image/png": "[encoded data removed]",
            "text/plain": [
              "<Figure size 1200x400 with 1 Axes>"
            ]
          },
          "metadata": {},
          "output_type": "display_data"
        }
      ],
      "source": [
        "degreeDistribution(epi_csv, epi_graph)"
      ]
    },
    {
      "cell_type": "code",
      "execution_count": null,
      "metadata": {
        "colab": {
          "background_save": true
        },
        "id": "9-beGNP0lZxJ",
        "outputId": "58966c27-6fe6-463d-9385-3d0fa829ad61"
      },
      "outputs": [
        {
          "name": "stdout",
          "output_type": "stream",
          "text": [
            "Nodes = 5881\n",
            "Edges = 35592\n",
            "   From  Outdegree  Pos_out  Neg_out  Indegree  Pos_in  Neg_in\n",
            "0   1.0        215    324.0   -109.0       226   513.5  -287.5\n",
            "1   2.0         45     94.0    -49.0        41    82.0   -41.0\n",
            "2   3.0          0      0.0      0.0        21     7.5    13.5\n",
            "3   4.0         63    119.0    -56.0        54   111.0   -57.0\n",
            "4   5.0          3      5.0     -2.0         3     5.0    -2.0\n",
            "              From    Outdegree      Pos_out      Neg_out     Indegree  \\\n",
            "count  5881.000000  5881.000000  5881.000000  5881.000000  5881.000000   \n",
            "mean   3006.068186     6.052032     6.088420    -0.036388     6.052032   \n",
            "std    1721.384064    21.088387    24.428041    19.172023    17.675082   \n",
            "min       1.000000     0.000000  -301.000000  -179.000000     0.000000   \n",
            "25%    1513.000000     1.000000     1.000000    -1.500000     1.000000   \n",
            "50%    3002.000000     2.000000     2.000000     0.000000     2.000000   \n",
            "75%    4496.000000     4.000000     5.500000     0.000000     5.000000   \n",
            "max    6005.000000   763.000000   818.500000   698.000000   535.000000   \n",
            "\n",
            "            Pos_in       Neg_in  \n",
            "count  5881.000000  5881.000000  \n",
            "mean      6.088420    -0.036388  \n",
            "std      26.699178    14.063100  \n",
            "min    -297.000000  -314.500000  \n",
            "25%       1.000000    -1.000000  \n",
            "50%       2.000000     0.000000  \n",
            "75%       5.000000     0.000000  \n",
            "max     775.500000   378.000000  \n",
            "From         6005.0\n",
            "Outdegree     763.0\n",
            "Pos_out       818.5\n",
            "Neg_out       698.0\n",
            "Indegree      535.0\n",
            "Pos_in        775.5\n",
            "Neg_in        378.0\n",
            "dtype: float64\n",
            "Average Clustering = 0.15106980550907195\n",
            "Transitivity = 0.04504348485705065\n",
            "Density = 0.0010292571373048454\n"
          ]
        },
        {
          "data": {
            "image/png": "[encoded data removed]",
            "text/plain": [
              "<Figure size 432x288 with 1 Axes>"
            ]
          },
          "metadata": {},
          "output_type": "display_data"
        },
        {
          "data": {
            "text/plain": [
              "<Figure size 432x288 with 0 Axes>"
            ]
          },
          "metadata": {},
          "output_type": "display_data"
        }
      ],
      "source": [
        "bitcoin_Stats = stats(bitcoin_csv,bitcoin_graph)"
      ]
    },
    {
      "cell_type": "code",
      "execution_count": null,
      "metadata": {
        "colab": {
          "background_save": true
        },
        "id": "TfyD4IqJgHRl",
        "outputId": "bce35282-a69f-4dc1-83b9-7ec1f47f764d"
      },
      "outputs": [
        {
          "name": "stdout",
          "output_type": "stream",
          "text": [
            "\n"
          ]
        },
        {
          "data": {
            "image/png": "[encoded data removed]",
            "text/plain": [
              "<Figure size 1200x400 with 1 Axes>"
            ]
          },
          "metadata": {},
          "output_type": "display_data"
        },
        {
          "name": "stdout",
          "output_type": "stream",
          "text": [
            "\n"
          ]
        },
        {
          "data": {
            "image/png": "[encoded data removed]",
            "text/plain": [
              "<Figure size 1200x400 with 1 Axes>"
            ]
          },
          "metadata": {},
          "output_type": "display_data"
        },
        {
          "data": {
            "image/png": "[encoded data removed]",
            "text/plain": [
              "<Figure size 1200x400 with 1 Axes>"
            ]
          },
          "metadata": {},
          "output_type": "display_data"
        },
        {
          "name": "stdout",
          "output_type": "stream",
          "text": [
            "\n"
          ]
        },
        {
          "data": {
            "image/png": "[encoded data removed]",
            "text/plain": [
              "<Figure size 1200x400 with 1 Axes>"
            ]
          },
          "metadata": {},
          "output_type": "display_data"
        }
      ],
      "source": [
        "degreeDistribution(bitcoin_csv, bitcoin_graph)"
      ]
    },
    {
      "cell_type": "code",
      "execution_count": null,
      "metadata": {
        "colab": {
          "background_save": true
        },
        "id": "pkOE6HEcD-y3"
      },
      "outputs": [],
      "source": [
        "def degreeCentrality(graph, name):\n",
        "    # Degree centrality stats\n",
        "    print(\"In-degree\")\n",
        "    in_degree_centrality_nodes = nx.in_degree_centrality(graph)\n",
        "    in_degree_centrality_nodes = collections.Counter(in_degree_centrality_nodes)\n",
        "    for k, v in in_degree_centrality_nodes.most_common(10):\n",
        "        print ((k, v))\n",
        "    with open(name+'_indegreecentrality.csv', encoding='utf-8-sig', mode='w') as fp:\n",
        "        fp.write('col1,col2\\n')  \n",
        "        for tag, count in in_degree_centrality_nodes.items():  \n",
        "            fp.write('{},{}\\n'.format(tag, count))  \n",
        "    print(\"\\n Out-degree \\n\")\n",
        "    out_degree_centrality_nodes = nx.out_degree_centrality(graph)\n",
        "    out_degree_centrality_nodes = collections.Counter(out_degree_centrality_nodes)\n",
        "    for k, v in out_degree_centrality_nodes.most_common(10):\n",
        "        print ((k, v))\n",
        "    with open(name+'_outdegreecentrality.csv', encoding='utf-8-sig', mode='w') as fp:\n",
        "        fp.write('col1,col2\\n')  \n",
        "        for tag, count in out_degree_centrality_nodes.items():  \n",
        "            fp.write('{},{}\\n'.format(tag, count)) \n",
        "    # degree_centrality_nodes = nx.degree_centrality(graph)\n",
        "    # degree_centrality_nodes = collections.Counter(degree_centrality_nodes)\n",
        "    # for k, v in degree_centrality_nodes.most_common(100):\n",
        "    #   print (k,v)\n",
        "    inDegreeCentrality = pd.read_csv(name+'_indegreecentrality.csv', delimiter=',')\n",
        "    outDegreeCentrality = pd.read_csv(name+'_outdegreecentrality.csv', delimiter=',')\n",
        "    \n",
        "    return inDegreeCentrality, outDegreeCentrality"
      ]
    },
    {
      "cell_type": "code",
      "execution_count": null,
      "metadata": {
        "colab": {
          "background_save": true
        },
        "id": "zYuWegOvFsT0"
      },
      "outputs": [],
      "source": [
        "def H_value(max_value,in_values):\n",
        "  sum = np.sum(max_value - np.array(in_values))\n",
        "  return sum\n",
        "\n",
        "# Sample modified degree centrality\n",
        "# According to the proposed approach the node with least\n",
        "# degree centrality (as H value will be high for the most\n",
        "# influential node and it is in the denominator) can be\n",
        "# considered as the node with most number of connections and\n",
        "# hence the most influential node.\n",
        "\n",
        "# G = nx.gn_graph(10)\n",
        "# G = nx.petersen_graph()\n",
        "# subax2 = plt.subplot(121)\n",
        "# nx.draw_shell(G, nlist=[range(5, 10), range(5)], with_labels=True, font_weight='bold')\n",
        "\n",
        "def enhancedCentrality(graph, name):\n",
        "  A = nx.adjacency_matrix(graph)\n",
        "  B = A.astype(np.bool_)\n",
        "  C = B.toarray()\n",
        "\n",
        "  in_degree_centrality_nodes = nx.in_degree_centrality(graph)\n",
        "  \n",
        "  in_values = list(in_degree_centrality_nodes.values())\n",
        "  in_values = [i*(len(in_values)-1) for i in in_values]\n",
        "  max_value = max(in_values)\n",
        "  sum = H_value(max_value,in_values)\n",
        "  print(sum)\n",
        "  clustering_array = nx.clustering(graph)\n",
        "  clustering_values = list(clustering_array.values())\n",
        "  clustering_values = [float(i) for i in clustering_values]\n",
        "  with open(name+'_clusteringCentrality.csv', encoding='utf-8-sig', mode='w') as fp:\n",
        "    fp.write('col1\\n')\n",
        "    for val in clustering_values:  \n",
        "      fp.write('{}\\n'.format(val))\n",
        "\n",
        "  enhanced_degree_centrality = []\n",
        "  if name == 'Epinion':\n",
        "    for i in range(len(C)):\n",
        "      #temp = (float(max_value - in_degree_centrality_nodes[i])) * float(clustering_array[i]) /float(sum) \n",
        "      temp = (float(max_value - in_degree_centrality_nodes[i])) \n",
        "      enhanced_degree_centrality.append((i,temp))\n",
        "  else:\n",
        "    for i,j in in_degree_centrality_nodes:\n",
        "      temp = (float(max_value - j)) * float(clustering_array[i]) /float(sum) \n",
        "      enhanced_degree_centrality.append((i,temp))\n",
        "    \n",
        "  enhanced_degree_centrality = [ (i,'%.12f' % elem) for i,elem in enhanced_degree_centrality ]\n",
        "  # print(enhanced_degree_centrality)\n",
        "  file = open(name+'______enhancedInDegreeCentrality.csv', 'w+', newline ='\\n') \n",
        "  with file:     \n",
        "    write = csv.writer(file) \n",
        "    write.writerows(enhanced_degree_centrality) \n",
        "    \n",
        "  enhancedInDegreeCentrality = pd.read_csv(name+'_enhancedInDegreeCentrality.csv', delimiter=',')\n",
        "  clusteringCentrality = pd.read_csv(name+'_clusteringCentrality.csv', delimiter=',')\n",
        "    \n",
        "  return enhancedInDegreeCentrality, clusteringCentrality"
      ]
    },
    {
      "cell_type": "code",
      "execution_count": null,
      "metadata": {
        "colab": {
          "background_save": true
        },
        "id": "rtq3DCmRKv23"
      },
      "outputs": [],
      "source": [
        "def eigenVectorCentrality(graph, name):\n",
        "    # Eigen Vector centrality stats\n",
        "    print(\"Eigen Vector centrality\")\n",
        "    eigenvector_centrality_nodes = nx.eigenvector_centrality_numpy(graph)\n",
        "    eigenvector_centrality_nodes = collections.Counter(eigenvector_centrality_nodes)\n",
        "    for k, v in eigenvector_centrality_nodes.most_common(10):\n",
        "        print ((k, v))\n",
        "    with open(name+'_eigenvectorcentrality.csv', encoding='utf-8-sig', mode='w') as fp:\n",
        "        fp.write('col1,col2\\n')  \n",
        "        for tag, count in eigenvector_centrality_nodes.items():  \n",
        "            fp.write('{},{}\\n'.format(tag, count)) \n",
        "            \n",
        "    eigenvectorCentrality = pd.read_csv(name+'_eigenvectorcentrality.csv', delimiter=',')\n",
        "\n",
        "    return eigenvectorCentrality"
      ]
    },
    {
      "cell_type": "code",
      "execution_count": null,
      "metadata": {
        "colab": {
          "background_save": true
        },
        "id": "kMwIpYKpnlsT"
      },
      "outputs": [],
      "source": [
        "def khatzCentrality(graph,name):\n",
        "    # Katz centrality stats\n",
        "    # Not running on colab\n",
        "    print(\"Katz centrality\")\n",
        "    katz_centrality_numpy_nodes = nx.katz_centrality_numpy(graph)\n",
        "    katz_centrality_numpy_nodes = collections.Counter(katz_centrality_numpy_nodes)\n",
        "#    for k, v in katz_centrality_numpy_nodes.most_common(10):\n",
        "#      print ((k, v))\n",
        "    with open(name+'_khatzcentrality.csv', encoding='utf-8-sig', mode='w') as fp:\n",
        "        fp.write('col1,col2\\n')  \n",
        "        for tag, count in katz_centrality_numpy_nodes.items():  \n",
        "            fp.write('{},{}\\n'.format(tag, count)) \n",
        "            \n",
        "    khatzCentrality = pd.read_csv(name+'_khatzcentrality.csv', delimiter=',')\n",
        "\n",
        "    return khatzCentrality"
      ]
    },
    {
      "cell_type": "code",
      "execution_count": null,
      "metadata": {
        "colab": {
          "background_save": true
        },
        "id": "gJYrt3Lonoio"
      },
      "outputs": [],
      "source": [
        "def closenessCentrality(graph, name):\n",
        "    # Closeness centrality stats\n",
        "    # Not running on colab\n",
        "    print(\"closeness centrality \")\n",
        "    closeness_centrality_nodes = nx.closeness_centrality(graph)\n",
        "    closeness_centrality_nodes = collections.Counter(closeness_centrality_nodes)\n",
        "#    for k, v in closeness_centrality_nodes.most_common(10):\n",
        "#        print ((k, v))\n",
        "    with open(name+'_closenesscentrality.csv', encoding='utf-8-sig', mode='w') as fp:\n",
        "        fp.write('col1,col2\\n')  \n",
        "        for tag, count in closeness_centrality_nodes.items():  \n",
        "            fp.write('{},{}\\n'.format(tag, count)) \n",
        "            \n",
        "    closenessCentrality = pd.read_csv(name+'_closenesscentrality.csv', delimiter=',')\n",
        "\n",
        "    return closenessCentrality"
      ]
    },
    {
      "cell_type": "code",
      "execution_count": null,
      "metadata": {
        "colab": {
          "background_save": true
        },
        "id": "xXXjYo1Lnrfn"
      },
      "outputs": [],
      "source": [
        "def betweenessCentrality(graph,name):\n",
        "    # Betweenness centrality stats\n",
        "    # Not running on colab\n",
        "    print(\"Betweenness centrality \")\n",
        "    betweenness_centrality_nodes = nx.betweenness_centrality(graph)\n",
        "    betweenness_centrality_nodes = collections.Counter(betweenness_centrality_nodes)\n",
        "#    for k, v in betweenness_centrality_nodes.most_common(10):\n",
        "#        print ((k, v))\n",
        "    with open(name+'_betweennessscentrality.csv', encoding='utf-8-sig', mode='w') as fp:\n",
        "        fp.write('col1,col2\\n')  \n",
        "        for tag, count in betweenness_centrality_nodes.items():  \n",
        "            fp.write('{},{}\\n'.format(tag, count)) \n",
        "            \n",
        "    betweennessCentrality = pd.read_csv(name+'_betweennessscentrality.csv', delimiter=',')\n",
        "\n",
        "    return betweennessCentrality"
      ]
    },
    {
      "cell_type": "code",
      "execution_count": null,
      "metadata": {
        "colab": {
          "background_save": true
        },
        "id": "AoSc8sLcnvE0"
      },
      "outputs": [],
      "source": [
        "def degreeRelationship(Stats, graph, name):\n",
        "    # Out degree and indegree relationship, relationship between positive and negative weighted outgoing \n",
        "    # edges in the network and relationship between positive and negative ingoing edges.\n",
        "    \n",
        "    plt.figure(figsize=(5, 5), dpi=80)\n",
        "    plt.plot(Stats['Pos_out'],Stats['Neg_out'],'o',markersize=0.4, color = 'brown')\n",
        "    plt.xscale('log')\n",
        "    plt.yscale('log')\n",
        "    plt.xlabel('Positive Outdegree')\n",
        "    plt.ylabel('Negativetive Outdegree')\n",
        "    plt.title(name+' Outdegree(Pos-Neg) relationship')\n",
        "    plt.legend(['Node'])\n",
        "    plt.grid()\n",
        "    plt.show()\n",
        "    \n",
        "    plt.figure(figsize=(5, 5), dpi=80)\n",
        "    plt.plot(Stats['Pos_in'],Stats['Neg_in'],'o',markersize=0.4, color = 'brown')\n",
        "    plt.xscale('log')\n",
        "    plt.yscale('log')\n",
        "    plt.xlabel('Positive Indegree')\n",
        "    plt.ylabel('Negativetive Indegree')\n",
        "    plt.title(name+' Indegree(Pos-Neg) relationship')\n",
        "    plt.legend(['Node'])\n",
        "    plt.grid()\n",
        "    plt.show()\n",
        "    \n",
        "    plt.figure(figsize=(5, 5), dpi=80)\n",
        "    plt.plot(Stats['Outdegree'],Stats['Indegree'],'o',markersize=0.4, color = 'brown')\n",
        "    plt.xscale('log')\n",
        "    plt.yscale('log')\n",
        "    plt.xlabel('Outdegree')\n",
        "    plt.ylabel('Indegree')\n",
        "    plt.title(name+' Outdegree-Indegree relationship')\n",
        "    plt.legend(['Node'])\n",
        "    plt.grid()\n",
        "    plt.show()\n",
        "    \n",
        "    \n",
        "    plt.figure(figsize=(5, 5), dpi=80)\n",
        "    Deg_cor = nx.average_neighbor_degree(graph,target='out')\n",
        "    dict_list = []\n",
        "    for key, value in Deg_cor.items():\n",
        "        temp = [key,value]\n",
        "        temp[0] = graph.degree(key,'out')\n",
        "        dict_list.append(temp)\n",
        "    dfa11 = pd.DataFrame(dict_list,columns =['Outdegree','Average neighbors outdegree'])\n",
        "    dfa21 = dfa11.groupby('Outdegree',as_index=False)['Average neighbors outdegree'].mean()\n",
        "    plt.plot(dfa11['Outdegree'],dfa11['Average neighbors outdegree'],'o',markersize=0.3, color = 'brown')\n",
        "    plt.plot(dfa21['Outdegree'],dfa21['Average neighbors outdegree'],'o',markersize=1, color = 'yellow')\n",
        "    plt.xscale('log')\n",
        "    plt.yscale('log')\n",
        "    plt.xlabel('Outdegree')\n",
        "    plt.ylabel('Average neighbors outdegree')\n",
        "    plt.title(name+' Outdegree-Neighbour outdegree relationship')\n",
        "    plt.legend(['Node','Mean at same outdegree'])\n",
        "    plt.grid()\n",
        "    plt.show()\n",
        "    \n",
        "    \n",
        "    plt.figure(figsize=(5, 5), dpi=80)\n",
        "    Deg_cor = nx.average_neighbor_degree(graph,target='in')\n",
        "    dict_list = []\n",
        "    for key, value in Deg_cor.items():\n",
        "        temp = [key,value]\n",
        "        temp[0] = graph.degree(key,'in')\n",
        "        dict_list.append(temp)\n",
        "    dfa12 = pd.DataFrame(dict_list,columns =['Indegree','Average neighbors indegree'])\n",
        "    # group same indegree values and take their mean\n",
        "    dfa22 = dfa12.groupby('Indegree',as_index=False)['Average neighbors indegree'].mean()\n",
        "    plt.plot(dfa12['Indegree'],dfa12['Average neighbors indegree'],'o',markersize=0.3, color = 'brown')\n",
        "    plt.plot(dfa22['Indegree'],dfa22['Average neighbors indegree'],'o',markersize=1, color = 'yellow')\n",
        "    plt.xscale('log')\n",
        "    plt.yscale('log')\n",
        "    plt.xlabel('Indegree')\n",
        "    plt.ylabel('Average neighbors indegree')\n",
        "    plt.title(name+' Indegree-Neighbour indegree relationship')\n",
        "    plt.legend(['Node','Mean at same indegree'])\n",
        "    plt.grid()\n",
        "    plt.show()\n",
        "    \n",
        "    plt.figure(figsize=(5, 5), dpi=80)\n",
        "    plt.plot(dfa12['Indegree'],dfa11['Average neighbors outdegree'],'o',markersize=0.3, color = 'brown')\n",
        "    plt.plot(dfa22['Indegree'],dfa21['Average neighbors outdegree'],'o',markersize=1, color = 'yellow')\n",
        "    plt.xscale('log')\n",
        "    plt.yscale('log')\n",
        "    plt.xlabel('Indegree')\n",
        "    plt.ylabel('Average neighbors outdegree')\n",
        "    plt.title(name+' Indegree-Neighbour outdegree relationship')\n",
        "    plt.legend(['Node','Mean at same indegree'])\n",
        "    plt.grid()\n",
        "    plt.show()\n",
        "    \n",
        "    plt.figure(figsize=(5, 5), dpi=80)\n",
        "    plt.plot(dfa11['Outdegree'],dfa12['Average neighbors indegree'],'o',markersize=0.3, color = 'brown')\n",
        "    plt.plot(dfa21['Outdegree'],dfa22['Average neighbors indegree'],'o',markersize=1, color = 'yellow')\n",
        "    plt.xscale('log')\n",
        "    plt.yscale('log')\n",
        "    plt.xlabel('Outdegree')\n",
        "    plt.ylabel('Average neighbors indegree')\n",
        "    plt.title(name+' Outdegree-Neighbour indegree relationship')\n",
        "    plt.legend(['Node','Mean at same outdegree'])\n",
        "    plt.grid()\n",
        "    plt.show()\n",
        "    \n",
        "    \n",
        "    \n",
        "    print('In-In assortativity coefficient = '+ str(nx.degree_assortativity_coefficient(graph,'in','in')))\n",
        "    print('Out-Out assortativity coefficient = '+ str(nx.degree_assortativity_coefficient(graph,'out','out')))\n",
        "    print('In-Out assortativity coefficient = '+ str(nx.degree_assortativity_coefficient(graph,'in','out')))\n",
        "    print('Out-In assortativity coefficient = '+ str(nx.degree_assortativity_coefficient(graph,'out','in')))\n",
        "    print('Graph assortativity coefficient = '+ str(nx.degree_assortativity_coefficient(graph)))\n",
        " "
      ]
    },
    {
      "cell_type": "code",
      "execution_count": null,
      "metadata": {
        "colab": {
          "background_save": true
        },
        "id": "9q6C-F8en2cZ"
      },
      "outputs": [],
      "source": [
        "def weakConnected(graph):\n",
        "    weak = nx.weakly_connected_components(graph)\n",
        "    weak_list = [c for c in sorted(weak,key=len, reverse=True)]\n",
        "    weak_nodes = weak_list[0]\n",
        "    weak_graph = graph.subgraph(weak_nodes)\n",
        "    return weak_graph"
      ]
    },
    {
      "cell_type": "code",
      "execution_count": null,
      "metadata": {
        "colab": {
          "background_save": true
        },
        "id": "Ru-p-SQb_njb"
      },
      "outputs": [],
      "source": [
        "epi_weak_graph = weakConnected(epi_graph)\n",
        "bit_weak_graph = weakConnected(bitcoin_graph)"
      ]
    },
    {
      "cell_type": "code",
      "execution_count": null,
      "metadata": {
        "colab": {
          "background_save": true
        },
        "id": "5Bv4JjMin5ES"
      },
      "outputs": [],
      "source": [
        "def powerLaw(Stats, graph):\n",
        "    import math\n",
        "    pos = Stats['Indegree'][Stats['Indegree'] != 0]\n",
        "    pos = pos.transform(lambda x: math.floor(math.log(x)) )\n",
        "\n",
        "    prob = pos.value_counts(normalize=True)\n",
        "    threshold = 0.0001\n",
        "    mask = prob > threshold\n",
        "    tail_prob = prob.loc[~mask].sum()\n",
        "    prob = prob.loc[mask]\n",
        "    prob['other'] = tail_prob\n",
        "    prob.plot(kind='bar',log=True,color='r')\n",
        "    plt.title('Indegree')\n",
        "    plt.grid()\n",
        "    \n",
        "    import igraph as igraph\n",
        "    pos = Stats['Indegree'][Stats['Indegree'] != 0]\n",
        "    print(igraph.power_law_fit(pos))"
      ]
    },
    {
      "cell_type": "code",
      "execution_count": null,
      "metadata": {
        "colab": {
          "background_save": true
        },
        "id": "2TB1N2HRn7_L"
      },
      "outputs": [],
      "source": [
        "def communities(graph):\n",
        "    SCC = max(nx.strongly_connected_components(graph), key=len)\n",
        "    print('Size of maximal strongly connected component is ' + str(len(SCC)))\n",
        "    WCC = max(nx.weakly_connected_components(graph), key=len)\n",
        "    print('Size of maximal weakly connected component is ' + str(len(WCC)))\n",
        "    DIF = list(set(WCC)-set(SCC))\n",
        "    OUT_C = []\n",
        "    IN_C = []\n",
        "    IN = 0\n",
        "    OUT = 0\n",
        "    for index, node1 in enumerate(DIF):\n",
        "        for index2, node2 in enumerate(SCC):\n",
        "\n",
        "            if graph.has_edge(node1,node2):\n",
        "                OUT+=1\n",
        "                OUT_C.append(node2)\n",
        "                break\n",
        "            elif graph.has_edge(node2,node1):\n",
        "                IN+=1\n",
        "                IN_C.append(node1)\n",
        "                break\n",
        "\n",
        "\n",
        "    TND = len(DIF)-IN-OUT\n",
        "    print(IN,OUT,TND)\n",
        "    \n",
        "    SCC = max(nx.strongly_connected_components(graph), key=len)\n",
        "    scc_com = graph.subgraph(SCC).copy()\n",
        "    scc2 = nx.Graph(scc_com)\n",
        "\n",
        "    # Removing the weights.\n",
        "\n",
        "    for u,v,d in scc2.edges(data=True):\n",
        "        d['weight']=1\n",
        "\n",
        "    communities =community_louvain.best_partition(scc2,random_state=5)\n",
        "    \n",
        "    print(set(communities.values()))\n",
        "    # node numver, community it belongs to\n",
        "    # find size of all communities\n",
        "    # group by val -> key.sum()\n",
        "    \n",
        "    ind_graph = community_louvain.induced_graph(communities, scc2)\n",
        "\n",
        "    inv_map = dict()\n",
        "    for key, value in communities.items():\n",
        "        inv_map.setdefault(value, list()).append(key)\n",
        "\n",
        "    # Removing the small communities\n",
        "\n",
        "    inv_map2 = {key:val for key, val in inv_map.items() if len(val) >= 100}\n",
        "    sizes = np.array([len(inv_map2[k]) for k in list(inv_map2.keys())])\n",
        "\n",
        "    # Removing edges from the graph:\n",
        "\n",
        "    inv_keys = [key for key in inv_map2]\n",
        "    ind_nodes = list(ind_graph.nodes())\n",
        "    for node in ind_nodes:\n",
        "        if node not in inv_keys:\n",
        "            ind_graph.remove_node(node)\n",
        "            \n",
        "    print(community_louvain.modularity(communities,scc2))\n",
        "    print(sizes)"
      ]
    },
    {
      "cell_type": "code",
      "execution_count": null,
      "metadata": {
        "colab": {
          "background_save": true
        },
        "id": "XDrL_T4ZoHNd"
      },
      "outputs": [],
      "source": [
        "def richClubEffect(Stats, graph):\n",
        "    \n",
        "    # We want to see the rich club effect in the 100 edges with the highest indegree.\n",
        "    picked = 100\n",
        "    rce1 = Stats[['From','Indegree']].sort_values(by=['Indegree'], ascending=False)[0:picked]\n",
        "    rich = list(rce1.From.values)\n",
        "    rece_graph = graph.subgraph(rich).copy()\n",
        "    # Dropping first value\n",
        "\n",
        "    densities = np.zeros((3,picked))\n",
        "    pos_edges = 0\n",
        "    neg_edges = 0 \n",
        "    for rank, node1 in enumerate(rich[1::]):\n",
        "\n",
        "        for rank2, node2 in enumerate(rich[:rank+1]): \n",
        "            if graph.has_edge(node1, node2):\n",
        "                if graph[node1][node2]['weight'] == 1:\n",
        "                    pos_edges += 1\n",
        "                else:\n",
        "                    neg_edges += 1\n",
        "            if graph.has_edge(node2, node1):\n",
        "                if graph[node2][node1]['weight'] == 1:\n",
        "                    pos_edges += 1\n",
        "                else:\n",
        "                    neg_edges += 1\n",
        "\n",
        "        densities[0][rank] = pos_edges/(rank+2)/(rank+1)\n",
        "        densities[1][rank] = neg_edges/(rank+2)/(rank+1)\n",
        "        densities[2][rank] = (pos_edges + neg_edges)/(rank+2)/(rank+1)\n",
        "\n",
        "    plt.figure(figsize=(15, 5), dpi=80)\n",
        "    plt.plot( [i for i in range(0,picked)],densities[0,],'r-',label='Positive edge density(+ve effect)')\n",
        "    plt.plot( [i for i in range(0,picked)],densities[1,],'b-',label='Negative edge density(+ve effect)')\n",
        "    #plt.plot( [i for i in range(0,picked)],densities[2,],'g-',label='Total density')\n",
        "    #plt.legend(loc=\"upper right\")\n",
        "    #plt.ylim((0,1))\n",
        "    #plt.xlim((-2,picked-2))\n",
        "    #plt.show()\n",
        "\n",
        "    # Checking the one sidedness\n",
        "    print(nx.reciprocity(rece_graph))\n",
        "    \n",
        "    \n",
        "    \n",
        "    # We want to see the rich club effect in the 100 edges with the highest negative_degree.\n",
        "    picked = 100\n",
        "    rce2 = Stats[['From','Neg_in']].sort_values(by=['Neg_in'], ascending=False)[4:picked+4]\n",
        "    rich = list(rce2.From.values)\n",
        "    rece_graph2 = graph.subgraph(rich).copy()\n",
        "    # Dropping first value\n",
        "\n",
        "    densities = np.zeros((3,picked))\n",
        "    pos_edges = 0\n",
        "    neg_edges = 0 \n",
        "\n",
        "    for rank, node1 in enumerate(rich[1::]):\n",
        "\n",
        "        for rank2, node2 in enumerate(rich[:rank+1]): \n",
        "            if graph.has_edge(node1, node2):\n",
        "                if graph[node1][node2]['weight'] == 1:\n",
        "                    pos_edges += 1\n",
        "                else:\n",
        "                    neg_edges += 1\n",
        "            if graph.has_edge(node2, node1):\n",
        "                if graph[node2][node1]['weight'] == 1:\n",
        "                    pos_edges += 1\n",
        "                else:\n",
        "                    neg_edges += 1\n",
        "\n",
        "\n",
        "        densities[0][rank] = pos_edges/(rank+2)/(rank+1)\n",
        "        densities[1][rank] = neg_edges/(rank+2)/(rank+1)\n",
        "        densities[2][rank] = (pos_edges + neg_edges)/(rank+2)/(rank+1)\n",
        "\n",
        "\n",
        "    plt.plot( [i for i in range(0,picked)],densities[0,],'g-',label='Positive edge density(-ve effect)')\n",
        "    plt.plot( [i for i in range(0,picked)],densities[1,],'m-',label='Negative edge density(-ve effect)')\n",
        "    #plt.plot( [i for i in range(0,picked)],densities[2,],'g-',label='Total density')\n",
        "    plt.legend(loc=\"upper right\")\n",
        "    plt.ylim((0,1))\n",
        "    plt.xlim((-2,picked-2))\n",
        "    plt.title('Rich Club Effect', fontsize = 20)\n",
        "    plt.grid()\n",
        "    plt.ylim([0,0.6])\n",
        "    plt.xlabel('Node Number')\n",
        "    plt.ylabel('Density')\n",
        "    plt.show()\n",
        "    \n",
        "    # Checking the one sidedness\n",
        "    print(nx.reciprocity(rece_graph2))"
      ]
    },
    {
      "cell_type": "code",
      "execution_count": null,
      "metadata": {
        "colab": {
          "background_save": true
        },
        "id": "hx0meqTgoQUN",
        "outputId": "e717bc39-3d62-4ae3-b12e-5b6ba7f02315"
      },
      "outputs": [
        {
          "name": "stdout",
          "output_type": "stream",
          "text": [
            "0.6515615431720759\n"
          ]
        },
        {
          "data": {
            "image/png": "[encoded data removed]",
            "text/plain": [
              "<Figure size 1200x400 with 1 Axes>"
            ]
          },
          "metadata": {},
          "output_type": "display_data"
        },
        {
          "name": "stdout",
          "output_type": "stream",
          "text": [
            "0.38847583643122674\n"
          ]
        }
      ],
      "source": [
        "richClubEffect(epi_Stats, epi_graph)"
      ]
    },
    {
      "cell_type": "code",
      "execution_count": null,
      "metadata": {
        "colab": {
          "background_save": true
        },
        "id": "2_zmPj4DoUv_"
      },
      "outputs": [],
      "source": [
        "def communitiesNewCode(graph):\n",
        "    # compute the best partition\n",
        "    partition = community_louvain.best_partition(graph)\n",
        "    print(partition)"
      ]
    },
    {
      "cell_type": "code",
      "execution_count": null,
      "metadata": {
        "colab": {
          "background_save": true
        },
        "id": "A0ndJbbhoYAy"
      },
      "outputs": [],
      "source": [
        "epic1, epic2  = degreeCentrality(epi_graph, 'Epinion')"
      ]
    },
    {
      "cell_type": "code",
      "execution_count": null,
      "metadata": {
        "colab": {
          "background_save": true
        },
        "id": "T9IZu9V7-96W",
        "outputId": "d70b9b83-5626-420a-f85a-0f76e3b45b25"
      },
      "outputs": [
        {
          "name": "stdout",
          "output_type": "stream",
          "text": [
            "Eigen Vector centrality\n",
            "(11714.0, 0.0918861475783586)\n",
            "(11824.0, 0.0910400874117198)\n",
            "(11841.0, 0.09046681194545074)\n",
            "(11693.0, 0.08907685724831653)\n",
            "(11689.0, 0.0872848736769845)\n",
            "(56140.0, 0.08694034215852922)\n",
            "(11704.0, 0.08667695643347988)\n",
            "(11853.0, 0.08665164588509319)\n",
            "(11863.0, 0.08659170390321562)\n",
            "(11722.0, 0.08593336697707998)\n"
          ]
        }
      ],
      "source": [
        "epic3 = eigenVectorCentrality(epi_weak_graph, 'Epinion')"
      ]
    },
    {
      "cell_type": "code",
      "execution_count": null,
      "metadata": {
        "colab": {
          "background_save": true
        },
        "id": "8_7RGwPqocdk"
      },
      "outputs": [],
      "source": [
        "#epic6 = closenessCentrality(epi_weak_graph, 'Epinion')"
      ]
    },
    {
      "cell_type": "code",
      "execution_count": null,
      "metadata": {
        "colab": {
          "background_save": true
        },
        "id": "HIaODEdrpUlv"
      },
      "outputs": [],
      "source": [
        "#epic7 = betweenessCentrality(epi_weak_graph, 'Epinion')"
      ]
    },
    {
      "cell_type": "code",
      "execution_count": null,
      "metadata": {
        "colab": {
          "background_save": true
        },
        "id": "sA-otXqApYk3"
      },
      "outputs": [],
      "source": [
        "#epic4, epic5 = enhancedCentrality(epi_graph, 'Epinion')"
      ]
    },
    {
      "cell_type": "code",
      "execution_count": null,
      "metadata": {
        "colab": {
          "background_save": true
        },
        "id": "PyWCUw-J9pm6",
        "outputId": "034db0a1-486d-4763-e32a-c3e32d0b9582"
      },
      "outputs": [
        {
          "name": "stdout",
          "output_type": "stream",
          "text": [
            "In-degree\n",
            "(35.0, 0.09098639455782312)\n",
            "(2642.0, 0.07006802721088434)\n",
            "(1810.0, 0.05289115646258503)\n",
            "(2028.0, 0.047448979591836735)\n",
            "(905.0, 0.044897959183673466)\n",
            "(1.0, 0.03843537414965986)\n",
            "(4172.0, 0.03775510204081632)\n",
            "(7.0, 0.03673469387755102)\n",
            "(4197.0, 0.03452380952380952)\n",
            "(13.0, 0.03248299319727891)\n",
            "\n",
            " Out-degree \n",
            "\n",
            "(35.0, 0.12976190476190474)\n",
            "(2642.0, 0.06904761904761904)\n",
            "(1810.0, 0.06870748299319727)\n",
            "(2125.0, 0.06751700680272109)\n",
            "(2028.0, 0.049829931972789114)\n",
            "(905.0, 0.044897959183673466)\n",
            "(4172.0, 0.044897959183673466)\n",
            "(7.0, 0.03945578231292517)\n",
            "(1.0, 0.036564625850340135)\n",
            "(3129.0, 0.03605442176870748)\n",
            "Eigen Vector centrality\n",
            "(2642.0, 0.20221058479145868)\n",
            "(905.0, 0.19012652264436145)\n",
            "(1810.0, 0.16982089076458207)\n",
            "(35.0, 0.15472280593409393)\n",
            "(2028.0, 0.1500832374217323)\n",
            "(4172.0, 0.14632041848826027)\n",
            "(1.0, 0.13540793758269953)\n",
            "(4291.0, 0.13529331666497196)\n",
            "(1334.0, 0.1313847364443384)\n",
            "(4197.0, 0.12796758064486624)\n",
            "3110742.9999999995\n"
          ]
        },
        {
          "ename": "TypeError",
          "evalue": "ignored",
          "output_type": "error",
          "traceback": [
            "\u001b[0;31m---------------------------------------------------------------------------\u001b[0m",
            "\u001b[0;31mTypeError\u001b[0m                                 Traceback (most recent call last)",
            "\u001b[0;32m<ipython-input-35-3df6eb959226>\u001b[0m in \u001b[0;36m<module>\u001b[0;34m\u001b[0m\n\u001b[1;32m      1\u001b[0m \u001b[0mbitc1\u001b[0m\u001b[0;34m,\u001b[0m \u001b[0mbitc2\u001b[0m  \u001b[0;34m=\u001b[0m \u001b[0mdegreeCentrality\u001b[0m\u001b[0;34m(\u001b[0m\u001b[0mbitcoin_graph\u001b[0m\u001b[0;34m,\u001b[0m \u001b[0;34m'Bitcoin'\u001b[0m\u001b[0;34m)\u001b[0m\u001b[0;34m\u001b[0m\u001b[0;34m\u001b[0m\u001b[0m\n\u001b[1;32m      2\u001b[0m \u001b[0mbitc3\u001b[0m  \u001b[0;34m=\u001b[0m \u001b[0meigenVectorCentrality\u001b[0m\u001b[0;34m(\u001b[0m\u001b[0mbitcoin_graph\u001b[0m\u001b[0;34m,\u001b[0m \u001b[0;34m'Bitcoin'\u001b[0m\u001b[0;34m)\u001b[0m\u001b[0;34m\u001b[0m\u001b[0;34m\u001b[0m\u001b[0m\n\u001b[0;32m----> 3\u001b[0;31m \u001b[0mbitc4\u001b[0m\u001b[0;34m,\u001b[0m \u001b[0mbitc5\u001b[0m  \u001b[0;34m=\u001b[0m \u001b[0menhancedCentrality\u001b[0m\u001b[0;34m(\u001b[0m\u001b[0mbitcoin_graph\u001b[0m\u001b[0;34m,\u001b[0m \u001b[0;34m'Bitcoin'\u001b[0m\u001b[0;34m)\u001b[0m\u001b[0;34m\u001b[0m\u001b[0;34m\u001b[0m\u001b[0m\n\u001b[0m",
            "\u001b[0;32m<ipython-input-17-f0beeb56a36c>\u001b[0m in \u001b[0;36menhancedCentrality\u001b[0;34m(graph, name)\u001b[0m\n\u001b[1;32m     42\u001b[0m       \u001b[0menhanced_degree_centrality\u001b[0m\u001b[0;34m.\u001b[0m\u001b[0mappend\u001b[0m\u001b[0;34m(\u001b[0m\u001b[0;34m(\u001b[0m\u001b[0mi\u001b[0m\u001b[0;34m,\u001b[0m\u001b[0mtemp\u001b[0m\u001b[0;34m)\u001b[0m\u001b[0;34m)\u001b[0m\u001b[0;34m\u001b[0m\u001b[0;34m\u001b[0m\u001b[0m\n\u001b[1;32m     43\u001b[0m   \u001b[0;32melse\u001b[0m\u001b[0;34m:\u001b[0m\u001b[0;34m\u001b[0m\u001b[0;34m\u001b[0m\u001b[0m\n\u001b[0;32m---> 44\u001b[0;31m     \u001b[0;32mfor\u001b[0m \u001b[0mi\u001b[0m\u001b[0;34m,\u001b[0m\u001b[0mj\u001b[0m \u001b[0;32min\u001b[0m \u001b[0min_degree_centrality_nodes\u001b[0m\u001b[0;34m:\u001b[0m\u001b[0;34m\u001b[0m\u001b[0;34m\u001b[0m\u001b[0m\n\u001b[0m\u001b[1;32m     45\u001b[0m       \u001b[0mtemp\u001b[0m \u001b[0;34m=\u001b[0m \u001b[0;34m(\u001b[0m\u001b[0mfloat\u001b[0m\u001b[0;34m(\u001b[0m\u001b[0mmax_value\u001b[0m \u001b[0;34m-\u001b[0m \u001b[0mj\u001b[0m\u001b[0;34m)\u001b[0m\u001b[0;34m)\u001b[0m \u001b[0;34m*\u001b[0m \u001b[0mfloat\u001b[0m\u001b[0;34m(\u001b[0m\u001b[0mclustering_array\u001b[0m\u001b[0;34m[\u001b[0m\u001b[0mi\u001b[0m\u001b[0;34m]\u001b[0m\u001b[0;34m)\u001b[0m \u001b[0;34m/\u001b[0m\u001b[0mfloat\u001b[0m\u001b[0;34m(\u001b[0m\u001b[0msum\u001b[0m\u001b[0;34m)\u001b[0m\u001b[0;34m\u001b[0m\u001b[0;34m\u001b[0m\u001b[0m\n\u001b[1;32m     46\u001b[0m       \u001b[0menhanced_degree_centrality\u001b[0m\u001b[0;34m.\u001b[0m\u001b[0mappend\u001b[0m\u001b[0;34m(\u001b[0m\u001b[0;34m(\u001b[0m\u001b[0mi\u001b[0m\u001b[0;34m,\u001b[0m\u001b[0mtemp\u001b[0m\u001b[0;34m)\u001b[0m\u001b[0;34m)\u001b[0m\u001b[0;34m\u001b[0m\u001b[0;34m\u001b[0m\u001b[0m\n",
            "\u001b[0;31mTypeError\u001b[0m: cannot unpack non-iterable numpy.float64 object"
          ]
        }
      ],
      "source": [
        "bitc1, bitc2  = degreeCentrality(bitcoin_graph, 'Bitcoin')\n",
        "bitc3  = eigenVectorCentrality(bitcoin_graph, 'Bitcoin')\n",
        "bitc4, bitc5  = enhancedCentrality(bitcoin_graph, 'Bitcoin')"
      ]
    },
    {
      "cell_type": "code",
      "execution_count": null,
      "metadata": {
        "colab": {
          "background_save": true
        },
        "id": "3Y7n2Lm49_33"
      },
      "outputs": [],
      "source": [
        "plt.figure(figsize=(15, 5), dpi=80)\n",
        "val1 = epic1['col2']\n",
        "n1,x1,_1 = plt.hist(val1,bins=np.linspace(0.001, max(val1), 100), align='right', color='purple')\n",
        "plt.plot(n1)\n",
        "val3 = bitc1['col2']\n",
        "n3,x3,_3 = plt.hist(val3,bins=np.linspace(0.002, max(val3), 100),  align='right', color='purple')\n",
        "plt.plot(n3)\n",
        "\n",
        "plt.xlabel('Bin Number')\n",
        "plt.ylabel('Frequency')\n",
        "plt.title('Indegree Centrality comparison')\n",
        "plt.legend(['Epinion','Bitcoin'])\n",
        "plt.grid()\n",
        "plt.show()"
      ]
    },
    {
      "cell_type": "code",
      "execution_count": null,
      "metadata": {
        "colab": {
          "background_save": true
        },
        "id": "MOxNZA4u-Mni"
      },
      "outputs": [],
      "source": [
        "plt.figure(figsize=(15, 5), dpi=80)\n",
        "val1 = epic2['col2']\n",
        "n1,x1,_1 = plt.hist(val1,bins=np.linspace(0.001, max(val1), 100), visible=False, color='b')\n",
        "plt.plot(n1)\n",
        "val3 = bitc2['col2']\n",
        "n3,x3,_3 = plt.hist(val3,bins=np.linspace(0.001, max(val3), 100), visible=False, color='g')\n",
        "plt.plot(n3)\n",
        "\n",
        "plt.xlabel('Bin Number')\n",
        "plt.ylabel('Frequency')\n",
        "plt.title('Outdegree Centrality')\n",
        "plt.legend(['Epinion', 'Bitcoin'])\n",
        "plt.grid()\n",
        "plt.show()"
      ]
    },
    {
      "cell_type": "code",
      "execution_count": null,
      "metadata": {
        "colab": {
          "background_save": true
        },
        "id": "Sg8jF-ju-XGV"
      },
      "outputs": [],
      "source": [
        "plt.figure(figsize=(15, 5), dpi=80)\n",
        "val1 = epic3['col2']\n",
        "n1,x1,_1 = plt.hist(val1,bins=np.linspace(0.001, max(val1), 100), visible=False)\n",
        "plt.plot(n1)\n",
        "val3 = bitc3['col2']\n",
        "n3,x3,_3 = plt.hist(val3,bins=np.linspace(0.001, max(val3), 100), visible=False)\n",
        "plt.plot(n3)\n",
        "\n",
        "plt.xlabel('Bin Number')\n",
        "plt.ylabel('Frequency')\n",
        "plt.title('Eigen Vector Centrality')\n",
        "plt.legend(['Epinion', 'Bitcoin'])\n",
        "plt.grid()\n",
        "plt.show()\n"
      ]
    },
    {
      "cell_type": "code",
      "execution_count": null,
      "metadata": {
        "colab": {
          "background_save": true
        },
        "id": "-8no0UQ6_ATM"
      },
      "outputs": [],
      "source": [
        "plt.figure(figsize=(15, 5), dpi=80)\n",
        "val1 = epic4['col1']\n",
        "n1,x1,_1 = plt.hist(val1,bins=np.linspace(0.000001, max(val1), 100), visible=False)\n",
        "plt.plot(n1)\n",
        "\n",
        "val3 = bitc4['col1']\n",
        "n3,x3,_3 = plt.hist(val3,bins=np.linspace(0.00001, max(val3), 100), visible=False)\n",
        "plt.plot(n3)\n",
        "\n",
        "plt.xlabel('Bin Number')\n",
        "plt.ylabel('Frequency')\n",
        "plt.title('Enhanced Indegree Centrality')\n",
        "plt.legend(['Epinion','Bitcoin'])\n",
        "plt.grid()\n",
        "plt.show()"
      ]
    },
    {
      "cell_type": "code",
      "execution_count": null,
      "metadata": {
        "colab": {
          "background_save": true
        },
        "id": "-J5Lgb_O_J8U"
      },
      "outputs": [],
      "source": [
        "plt.figure(figsize=(15, 5), dpi=80)\n",
        "val1 = epic5['col1']\n",
        "n1,x1,_1 = plt.hist(val1,bins=np.linspace(0.001, max(val1), 100), visible=False)\n",
        "plt.plot(n1)\n",
        "val3 = bitc5['col1']\n",
        "n3,x3,_3 = plt.hist(val3,bins=np.linspace(0.001, max(val3), 100), visible=False)\n",
        "plt.plot(n3)\n",
        "\n",
        "plt.xlabel('Bin Number')\n",
        "plt.ylabel('Frequency')\n",
        "plt.title('Clustering')\n",
        "plt.legend(['Epinion', 'Bitcoin'])\n",
        "plt.grid()\n",
        "plt.show()\n"
      ]
    },
    {
      "cell_type": "code",
      "execution_count": null,
      "metadata": {
        "colab": {
          "background_save": true
        },
        "id": "uYCAfXv2_Xk3"
      },
      "outputs": [],
      "source": [
        "powerLaw(epi_Stats, epi_graph)"
      ]
    },
    {
      "cell_type": "code",
      "execution_count": null,
      "metadata": {
        "colab": {
          "background_save": true
        },
        "id": "4vcYaVVU_yBo"
      },
      "outputs": [],
      "source": [
        "powerLaw(bitcoin_Stats, bitcoin_graph)"
      ]
    },
    {
      "cell_type": "code",
      "execution_count": null,
      "metadata": {
        "colab": {
          "background_save": true
        },
        "id": "9zNS_rJ__yxw"
      },
      "outputs": [],
      "source": [
        "communities(epi_graph)"
      ]
    },
    {
      "cell_type": "code",
      "execution_count": null,
      "metadata": {
        "colab": {
          "background_save": true
        },
        "id": "lOEEGOfD_1oN"
      },
      "outputs": [],
      "source": [
        "closenessCentrality(epi_graph)"
      ]
    },
    {
      "cell_type": "code",
      "execution_count": null,
      "metadata": {
        "colab": {
          "background_save": true
        },
        "id": "RmzRnrnj_4-m"
      },
      "outputs": [],
      "source": [
        "degreeRelationship(epi_Stats,epi_graph,'Epinion')"
      ]
    },
    {
      "cell_type": "code",
      "execution_count": null,
      "metadata": {
        "colab": {
          "background_save": true
        },
        "id": "15rbP8IyABXA"
      },
      "outputs": [],
      "source": [
        "degreeRelationship(epi_Stats,epi_graph,'Epinion')"
      ]
    },
    {
      "cell_type": "code",
      "execution_count": null,
      "metadata": {
        "colab": {
          "background_save": true
        },
        "id": "16QVpRy_AkAc"
      },
      "outputs": [],
      "source": [
        "degreeRelationship(bitcoin_Stats,bitcoin_graph,'Bitcoin')"
      ]
    },
    {
      "cell_type": "code",
      "execution_count": null,
      "metadata": {
        "colab": {
          "background_save": true
        },
        "id": "z1wdnKxhAs5o"
      },
      "outputs": [],
      "source": [
        "print(nx.average_shortest_path_length(epi_weak_graph))"
      ]
    },
    {
      "cell_type": "code",
      "execution_count": null,
      "metadata": {
        "colab": {
          "background_save": true
        },
        "id": "jboDfcGMAwvR"
      },
      "outputs": [],
      "source": [
        "print(nx.average_shortest_path_length(bit_weak_graph))"
      ]
    },
    {
      "cell_type": "code",
      "execution_count": null,
      "metadata": {
        "colab": {
          "background_save": true
        },
        "id": "W7DZAhiRA9B0"
      },
      "outputs": [],
      "source": [
        "ud_epi = epi_weak_graph.to_undirected()\n",
        "ud_epi.remove_edges_from(nx.selfloop_edges(ud_epi))\n",
        "rc = nx.rich_club_coefficient(ud_epi, normalized=True, seed=10)\n",
        "n1,x1,_1 = plt.hist(rc.values(),bins=np.linspace(0, max(rc.values()), 100))\n",
        "plt.plot(n1)\n",
        "plt.show()"
      ]
    },
    {
      "cell_type": "code",
      "execution_count": null,
      "metadata": {
        "colab": {
          "background_save": true
        },
        "id": "fJArBeKMA925"
      },
      "outputs": [],
      "source": [
        "nx.write_gml(bitcoin_graph, \"bitcoin.gml\")\n",
        "allD = pd.read_csv('allData.csv', delimiter=',')\n",
        "allD"
      ]
    },
    {
      "cell_type": "code",
      "execution_count": null,
      "metadata": {
        "colab": {
          "background_save": true
        },
        "id": "3-ldz8TnBCvj"
      },
      "outputs": [],
      "source": [
        "interS = np.intersect1d(allD['indegree'],allD['outdegree'])\n",
        "interS"
      ]
    },
    {
      "cell_type": "code",
      "execution_count": null,
      "metadata": {
        "colab": {
          "background_save": true
        },
        "id": "yFYNe36dBDeN"
      },
      "outputs": [],
      "source": [
        "x = [[i for i in range(4)] for j in range(4)]\n",
        "sns.heatmap(x)\n",
        "plt.show()"
      ]
    },
    {
      "cell_type": "code",
      "execution_count": null,
      "metadata": {
        "colab": {
          "background_save": true
        },
        "id": "AMnG3cJeBGA6"
      },
      "outputs": [],
      "source": [
        "import scipy.sparse\n",
        "import scipy.sparse.csgraph\n",
        "A = nx.adjacency_matrix(epi_weak_graph)\n",
        "B = A.astype(np.bool_)\n",
        "C = B.toarray().tolil()\n",
        "D = scipy.sparse.csgraph.floyd_warshall( \\\n",
        "             C, directed=True, unweighted=True)\n",
        "n = D.shape[0]\n",
        "closeness_centrality = {}\n",
        "for r in range(0, n):\n",
        "    \n",
        "    cc = 0.0\n",
        "    \n",
        "    possible_paths = list(enumerate(D[r, :]))\n",
        "    shortest_paths = dict(filter( \\\n",
        "        lambda x: not x[1] == np.inf, possible_paths))\n",
        "    \n",
        "    total = sum(shortest_paths.values())\n",
        "    n_shortest_paths = len(shortest_paths) - 1.0\n",
        "    if total > 0.0 and n > 1:\n",
        "        s = n_shortest_paths / (n - 1)\n",
        "        cc = (n_shortest_paths / total) * s\n",
        "    closeness_centrality[r] = cc"
      ]
    }
  ],
  "metadata": {
    "colab": {
      "provenance": []
    },
    "kernelspec": {
      "display_name": "Python 3",
      "name": "python3"
    },
    "language_info": {
      "name": "python"
    }
  },
  "nbformat": 4,
  "nbformat_minor": 0
}